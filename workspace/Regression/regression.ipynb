{
 "cells": [
  {
   "cell_type": "markdown",
   "id": "48c863aa",
   "metadata": {},
   "source": [
    "# 回帰モデルによる因果推論"
   ]
  },
  {
   "cell_type": "markdown",
   "id": "f1ac150d",
   "metadata": {},
   "source": [
    "## 前提"
   ]
  },
  {
   "cell_type": "markdown",
   "id": "8af8fc47",
   "metadata": {},
   "source": [
    "- d分離後に残った変数(共変量)に対して適用\n",
    "- 線形回帰モデルを用いるので，因果の効果や変数間の関係が線形であること(現実世界は非線形であることが多い)"
   ]
  },
  {
   "cell_type": "markdown",
   "id": "05f504ac",
   "metadata": {},
   "source": [
    "## 今回の対象(課題)"
   ]
  },
  {
   "cell_type": "markdown",
   "id": "4cf0a3bc",
   "metadata": {},
   "source": [
    "<img src=\"./images/model_example.jpg\" width=500>"
   ]
  },
  {
   "cell_type": "markdown",
   "id": "3381f0f5",
   "metadata": {},
   "source": [
    "#### 今回は②にあたる，『テレビCMを観た』と『商品を購入』の間に，どれだけの大きさの因果関係が存在するのかを推論する"
   ]
  },
  {
   "cell_type": "markdown",
   "id": "53a9b210",
   "metadata": {},
   "source": [
    "- 今回のサンプル数$i$は200とする\n",
    "- 性別は$x_1$とし，一様分布によって『男性』を\"0\"，『女性』を\"1\"とする\n",
    "- 年齢は$x_2$とし，一様分布によって15歳〜75歳までを生成する"
   ]
  },
  {
   "cell_type": "markdown",
   "id": "19b7df90",
   "metadata": {},
   "source": [
    "- テレビCMを観た$Z^i$は，観た時を\"1\"，観なかった時を\"0\"とする\n",
    "- テレビCMを観た$Z^i$は，年齢$x_1$が高く，性別$x_2$が女性(\"1\")の方が，観る確率が高いとする\n",
    "- $Z^i$はシグモイド関数，\n",
    "$$ \\mathrm{sigmoid}(x) =  \\frac{1}{1 + \\mathrm{e}^{- \\alpha t}},$$\n",
    "によって計算する\n",
    "- この時$t$は，\n",
    "$$ t = 10x_1 + x_2 - 40 + \\mathrm{noise}^i ,$$\n",
    "とする\n",
    "- $\\alpha$は0.1とする"
   ]
  },
  {
   "cell_type": "markdown",
   "id": "c46af464",
   "metadata": {},
   "source": [
    "- 商品を購入$Y^i$は，\n",
    "$$ Y^i = 30(1 - x^i_1) - x^i_2 + 10Z^i + 80 + \\mathrm{noise}^i $$\n",
    "によって決まるとする\n",
    "- つまり，男性の方が購入量が高く，年齢が高くなるにつれ購入量が減る\n",
    "- テレビCMを観た$Z^i$の係数は\"10\"なので，<u>テレビCMによる購入量への効果は+10が正解となる</u>"
   ]
  },
  {
   "cell_type": "code",
   "execution_count": null,
   "id": "42ba4006",
   "metadata": {},
   "outputs": [],
   "source": []
  }
 ],
 "metadata": {
  "kernelspec": {
   "display_name": "Python 3",
   "language": "python",
   "name": "python3"
  },
  "language_info": {
   "codemirror_mode": {
    "name": "ipython",
    "version": 3
   },
   "file_extension": ".py",
   "mimetype": "text/x-python",
   "name": "python",
   "nbconvert_exporter": "python",
   "pygments_lexer": "ipython3",
   "version": "3.6.9"
  }
 },
 "nbformat": 4,
 "nbformat_minor": 5
}
