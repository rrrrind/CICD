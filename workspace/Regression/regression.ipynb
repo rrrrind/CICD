{
 "cells": [
  {
   "cell_type": "markdown",
   "id": "916b8144",
   "metadata": {},
   "source": [
    "# 回帰モデルによる因果推論"
   ]
  },
  {
   "cell_type": "markdown",
   "id": "856c3670",
   "metadata": {},
   "source": [
    "## 前提"
   ]
  },
  {
   "cell_type": "markdown",
   "id": "ecd3bb48",
   "metadata": {},
   "source": [
    "- d分離後に残った変数(共変量)に対して適用\n",
    "- 線形回帰モデルを用いるので，因果の効果や変数間の関係が線形であること(現実世界は非線形であることが多い)\n",
    "- 構造方程式モデルを直接求める方法(なのかな？)"
   ]
  },
  {
   "cell_type": "markdown",
   "id": "067ccb03",
   "metadata": {},
   "source": [
    "## 実装テーマ"
   ]
  },
  {
   "cell_type": "markdown",
   "id": "df2f4bf6",
   "metadata": {},
   "source": [
    "<img src=\"./images/model_example.jpg\" width=500>"
   ]
  },
  {
   "cell_type": "markdown",
   "id": "a485b2b7",
   "metadata": {},
   "source": [
    "#### 今回は②にあたる，『テレビCMを観た』と『商品を購入』の間に，どれだけの大きさの因果関係が存在するのかを推論する"
   ]
  },
  {
   "cell_type": "markdown",
   "id": "22aa6f99",
   "metadata": {},
   "source": [
    "- 今回のサンプル数$i$は200とする\n",
    "- 性別は$x_1$とし，一様分布によって『男性』を\"0\"，『女性』を\"1\"とする\n",
    "- 年齢は$x_2$とし，一様分布によって15歳〜75歳までを生成する"
   ]
  },
  {
   "cell_type": "markdown",
   "id": "428b3cb0",
   "metadata": {},
   "source": [
    "- テレビCMを観た$Z^i$は，観た時を\"1\"，観なかった時を\"0\"とする\n",
    "- テレビCMを観た$Z^i$は，年齢$x_1$が高く，性別$x_2$が女性(\"1\")の方が，観る確率が高いとする\n",
    "- $Z^i$はシグモイド関数，\n",
    "$$ \\mathrm{sigmoid}(x) =  \\frac{1}{1 + \\mathrm{e}^{- \\alpha t}},$$\n",
    "によって計算する\n",
    "- この時$t$は，\n",
    "$$ t = 10x_1 + x_2 - 40 + \\mathrm{noise}^i_t ,$$\n",
    "とする\n",
    "- $\\alpha$は0.1とする"
   ]
  },
  {
   "cell_type": "markdown",
   "id": "f0cd40b5",
   "metadata": {},
   "source": [
    "- 商品を購入$Y^i$は，\n",
    "\\begin{eqnarray}\n",
    "    Y^i &=& 30(1 - x^i_1) - x^i_2 + 10Z^i + 80 + \\mathrm{noise}^i_y \\nonumber， \\\\\n",
    "        &=& 30 - 30x^i_1 - x^i_2 + 10Z^i + 80 + \\mathrm{noise}^i_y \\nonumber， \\\\\n",
    "        &=& -30x^i_1 - x^i_2 + 10Z^i + 110 + \\mathrm{noise}^i_y \\nonumber，\n",
    "\\end{eqnarray}\n",
    "によって決まるとする\n",
    "- つまり，男性の方が購入量が高く，年齢が高くなるにつれ購入量が減る\n",
    "- テレビCMを観た$Z^i$の係数は\"10\"なので，<u>テレビCMによる購入量への効果は+10が正解となる</u>\n",
    "- それぞれの係数(因果の大きさ)は，$w_1=-30$，$w_2=-1$，$w_3=10$，$w_4=110$となる"
   ]
  },
  {
   "cell_type": "markdown",
   "id": "b8097a55",
   "metadata": {},
   "source": [
    "## 実装"
   ]
  },
  {
   "cell_type": "code",
   "execution_count": 26,
   "id": "c099b662",
   "metadata": {},
   "outputs": [],
   "source": [
    "import numpy as np\n",
    "import pandas as pd\n",
    "from sklearn.linear_model import LinearRegression"
   ]
  },
  {
   "cell_type": "markdown",
   "id": "a53cd2fb",
   "metadata": {},
   "source": [
    "### ダミーデータの生成"
   ]
  },
  {
   "cell_type": "code",
   "execution_count": 27,
   "id": "3ed3a90a",
   "metadata": {},
   "outputs": [],
   "source": [
    "np.random.seed(seed=1234)\n",
    "\n",
    "# サンプル数は200\n",
    "num_data = 200\n",
    "# 性別(0-1の離散一様分布)\n",
    "x_1 = np.random.randint(0, 2, num_data)\n",
    "# 年齢(15-75の離散一様分布)\n",
    "x_2 = np.random.randint(15, 76, num_data)\n",
    "# テレビCMを観たかどうか\n",
    "noise_t = np.random.randn(num_data) # 標準正規分布に従う乱数\n",
    "t = 10*x_1 + x_2 - 40 + noise_t\n",
    "z = 1 / (1 + np.exp(-0.1*t))\n",
    "Z = np.where(z < 0.5, 0, 1) # 0.5より小さいものは\"0\"，以上は\"1\"\n",
    "\n",
    "# 商品の購入量(目的変数)の算出\n",
    "noise_y = np.random.randn(num_data)\n",
    "Y = 30 * (1-x_1) - x_2 + 10*Z + 80 + noise_y"
   ]
  },
  {
   "cell_type": "code",
   "execution_count": 31,
   "id": "0a1a7662",
   "metadata": {},
   "outputs": [
    {
     "data": {
      "text/html": [
       "<div>\n",
       "<style scoped>\n",
       "    .dataframe tbody tr th:only-of-type {\n",
       "        vertical-align: middle;\n",
       "    }\n",
       "\n",
       "    .dataframe tbody tr th {\n",
       "        vertical-align: top;\n",
       "    }\n",
       "\n",
       "    .dataframe thead th {\n",
       "        text-align: right;\n",
       "    }\n",
       "</style>\n",
       "<table border=\"1\" class=\"dataframe\">\n",
       "  <thead>\n",
       "    <tr style=\"text-align: right;\">\n",
       "      <th></th>\n",
       "      <th>性別</th>\n",
       "      <th>年齢</th>\n",
       "      <th>CMを観た</th>\n",
       "      <th>購入量</th>\n",
       "    </tr>\n",
       "  </thead>\n",
       "  <tbody>\n",
       "    <tr>\n",
       "      <th>0</th>\n",
       "      <td>1</td>\n",
       "      <td>27</td>\n",
       "      <td>0</td>\n",
       "      <td>51.563426</td>\n",
       "    </tr>\n",
       "    <tr>\n",
       "      <th>1</th>\n",
       "      <td>1</td>\n",
       "      <td>20</td>\n",
       "      <td>0</td>\n",
       "      <td>60.210717</td>\n",
       "    </tr>\n",
       "    <tr>\n",
       "      <th>2</th>\n",
       "      <td>0</td>\n",
       "      <td>68</td>\n",
       "      <td>1</td>\n",
       "      <td>51.103096</td>\n",
       "    </tr>\n",
       "    <tr>\n",
       "      <th>3</th>\n",
       "      <td>1</td>\n",
       "      <td>32</td>\n",
       "      <td>1</td>\n",
       "      <td>56.275607</td>\n",
       "    </tr>\n",
       "    <tr>\n",
       "      <th>4</th>\n",
       "      <td>0</td>\n",
       "      <td>31</td>\n",
       "      <td>0</td>\n",
       "      <td>80.792339</td>\n",
       "    </tr>\n",
       "  </tbody>\n",
       "</table>\n",
       "</div>"
      ],
      "text/plain": [
       "   性別  年齢  CMを観た        購入量\n",
       "0   1  27      0  51.563426\n",
       "1   1  20      0  60.210717\n",
       "2   0  68      1  51.103096\n",
       "3   1  32      1  56.275607\n",
       "4   0  31      0  80.792339"
      ]
     },
     "execution_count": 31,
     "metadata": {},
     "output_type": "execute_result"
    }
   ],
   "source": [
    "df = pd.DataFrame({\"性別\":x_1,\"年齢\":x_2,\"CMを観た\":Z,\"購入量\":Y})\n",
    "df.head()"
   ]
  },
  {
   "cell_type": "markdown",
   "id": "73245fbb",
   "metadata": {},
   "source": [
    "### 平均による因果推論(間違い)"
   ]
  },
  {
   "cell_type": "code",
   "execution_count": 35,
   "id": "cf59aab3",
   "metadata": {},
   "outputs": [
    {
     "name": "stdout",
     "output_type": "stream",
     "text": [
      "性別        0.367647\n",
      "年齢       26.705882\n",
      "CMを観た     0.000000\n",
      "購入量      72.291045\n",
      "dtype: float64\n",
      "------------------------\n",
      "性別        0.537879\n",
      "年齢       55.537879\n",
      "CMを観た     1.000000\n",
      "購入量      48.200746\n",
      "dtype: float64\n"
     ]
    }
   ],
   "source": [
    "print(df[df['CMを観た']==0].mean())\n",
    "print('------------------------')\n",
    "print(df[df['CMを観た']==1].mean())"
   ]
  },
  {
   "cell_type": "markdown",
   "id": "0fe32b5f",
   "metadata": {},
   "source": [
    "CMを観ると購入量が減る → なんか変じゃない？？？  \n",
    "つまり，その上流にある変数の存在(交絡因子)を考慮できていない．"
   ]
  },
  {
   "cell_type": "markdown",
   "id": "738dc03e",
   "metadata": {},
   "source": [
    "### 回帰モデルによる因果推論"
   ]
  },
  {
   "cell_type": "code",
   "execution_count": 37,
   "id": "6eb4ca35",
   "metadata": {},
   "outputs": [
    {
     "name": "stdout",
     "output_type": "stream",
     "text": [
      "係数：[-29.97564711  -1.00283133   9.92613613]\n"
     ]
    }
   ],
   "source": [
    "X = df[['性別','年齢','CMを観た']]\n",
    "y = df['購入量']\n",
    "\n",
    "reg = LinearRegression().fit(X,y)\n",
    "\n",
    "print(\"係数：{}\".format(reg.coef_))"
   ]
  },
  {
   "cell_type": "markdown",
   "id": "df367f5a",
   "metadata": {},
   "source": [
    "この結果から，『CMを観た』の因果の大きさは\"9.92613613\"ということがわかった．  \n",
    "事前に設定した値は\"10\"なので，正しく推論できていることが確認された．"
   ]
  },
  {
   "cell_type": "code",
   "execution_count": null,
   "id": "25929445",
   "metadata": {},
   "outputs": [],
   "source": []
  }
 ],
 "metadata": {
  "kernelspec": {
   "display_name": "Python 3",
   "language": "python",
   "name": "python3"
  },
  "language_info": {
   "codemirror_mode": {
    "name": "ipython",
    "version": 3
   },
   "file_extension": ".py",
   "mimetype": "text/x-python",
   "name": "python",
   "nbconvert_exporter": "python",
   "pygments_lexer": "ipython3",
   "version": "3.6.9"
  }
 },
 "nbformat": 4,
 "nbformat_minor": 5
}
